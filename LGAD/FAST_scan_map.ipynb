{
  "nbformat": 4,
  "nbformat_minor": 0,
  "metadata": {
    "colab": {
      "provenance": [],
      "authorship_tag": "ABX9TyOJpuuKpKeY2wYKt6ks4a0c",
      "include_colab_link": true
    },
    "kernelspec": {
      "name": "python3",
      "display_name": "Python 3"
    },
    "language_info": {
      "name": "python"
    }
  },
  "cells": [
    {
      "cell_type": "markdown",
      "metadata": {
        "id": "view-in-github",
        "colab_type": "text"
      },
      "source": [
        "<a href=\"https://colab.research.google.com/github/Rio-HEPLab/EAFEXP2025/blob/main/FAST_scan_map.ipynb\" target=\"_parent\"><img src=\"https://colab.research.google.com/assets/colab-badge.svg\" alt=\"Open In Colab\"/></a>"
      ]
    },
    {
      "cell_type": "code",
      "execution_count": 3,
      "metadata": {
        "id": "wzR7BVZAaqMF"
      },
      "outputs": [],
      "source": [
        "import re\n",
        "import numpy as np\n",
        "import matplotlib.pyplot as plt"
      ]
    },
    {
      "cell_type": "code",
      "source": [
        "# arr = np.loadtxt( \"scan_Digitizer_50x50.txt\", skiprows=2 )\n",
        "# arr = np.loadtxt( \"scan_Digitizer.txt\", skiprows=2 )\n",
        "\n",
        "fileName = \"scan_test_10022025-1.txt\"\n",
        "step_X = None\n",
        "step_Y = None\n",
        "arr = None\n",
        "with open( fileName, 'r' ) as file_:\n",
        "    line_ = file_.readline()\n",
        "    p_ = re.compile( 'Step X = *' )\n",
        "    m_ = p_.match( line_ )\n",
        "    if m_: step_X = float( line_[ m_.end() : ].replace( ',', '.' ) )\n",
        "    print( \"step X = {}\".format( step_X ) )\n",
        "    line_ = file_.readline()\n",
        "    p_ = re.compile( 'Step Y = *' )\n",
        "    m_ = p_.match( line_ )\n",
        "    if m_: step_Y = float( line_[ m_.end() : ].replace( ',', '.' ) )\n",
        "    print( \"step Y = {}\".format( step_Y ) )\n",
        "    # arr = np.loadtxt( file_, skiprows=2 )\n",
        "    arr = np.loadtxt( file_ )\n",
        "arr"
      ],
      "metadata": {
        "colab": {
          "base_uri": "https://localhost:8080/"
        },
        "id": "TULeeRj2awG7",
        "outputId": "87ed1c59-5ea0-4864-dd12-b5e2895e2fcb"
      },
      "execution_count": 4,
      "outputs": [
        {
          "output_type": "stream",
          "name": "stdout",
          "text": [
            "step X = 0.05\n",
            "step Y = 0.05\n"
          ]
        },
        {
          "output_type": "execute_result",
          "data": {
            "text/plain": [
              "array([[  68.,   67.,   77.,   77.,   71.,   65.,   64.,   63.,   70.,\n",
              "          80.,   68.,   62.,   72.,   69.,   67.,   70.,   71.,   68.,\n",
              "          67.,   62.,   59.,   77.,   69.,   81.,   75.,   68.,   67.,\n",
              "          61.,   65.,   63.,   64.],\n",
              "       [  66.,   62.,   64.,   60.,   64.,   67.,   62.,   64.,   66.,\n",
              "          84.,   80.,   60.,   65.,   70.,   70.,   62.,   66.,   64.,\n",
              "          63.,   63.,   65.,   64.,   64.,   63.,   64.,   65.,   65.,\n",
              "          65.,   64.,   63.,   64.],\n",
              "       [  66.,   67.,   64.,   64.,   64.,   65.,   65.,   65.,   71.,\n",
              "          78.,   69.,   62.,   64.,   61.,   62.,   66.,   63.,   68.,\n",
              "          63.,   58.,   73.,   67.,   78.,   70.,   66.,   66.,   64.,\n",
              "          66.,   62.,   63.,   65.],\n",
              "       [  63.,   64.,   64.,   62.,   66.,   67.,   69.,   71.,   73.,\n",
              "          93.,   65.,   64.,   60.,   63.,   62.,   62.,   59.,   62.,\n",
              "          65.,   61.,   60.,   68.,   70.,   68.,   65.,   67.,   67.,\n",
              "          63.,   61.,   70.,   65.],\n",
              "       [  64.,   66.,   67.,   72.,   70.,   65.,   66.,   66.,   72.,\n",
              "         109.,   72.,   67.,   66.,   63.,   64.,   60.,   78.,   60.,\n",
              "          65.,   67.,   71.,   71.,   62.,   67.,   63.,   69.,   70.,\n",
              "          64.,   65.,   66.,   64.],\n",
              "       [  65.,   63.,   63.,   67.,   74.,   80.,   73.,   78.,   73.,\n",
              "          78.,   67.,   65.,   62.,   65.,   61.,   69.,   63.,   68.,\n",
              "          64.,   67.,   62.,   62.,   62.,   64.,   62.,   52.,   77.,\n",
              "          65.,   68.,   58.,   72.],\n",
              "       [  68.,   66.,   69.,   69.,   65.,   66.,   61.,   71.,   74.,\n",
              "          83.,   75.,   65.,   78.,   64.,   60.,   68.,   70.,   71.,\n",
              "          64.,   67.,   60.,   64.,   61.,   64.,   66.,   68.,   62.,\n",
              "          71.,   66.,   64.,   64.],\n",
              "       [  71.,   79.,   67.,   65.,   64.,   67.,   66.,   70.,   75.,\n",
              "          84.,   72.,   72.,   67.,   65.,   65.,   68.,   64.,   63.,\n",
              "          64.,   63.,   63.,   68.,   87.,   72.,   75.,   63.,   65.,\n",
              "          63.,   64.,   62.,   66.],\n",
              "       [  66.,   67.,   66.,   67.,   63.,   65.,   60.,   69.,   72.,\n",
              "          78.,   71.,   83.,   63.,   66.,   63.,   66.,   58.,   67.,\n",
              "          64.,   79.,  187.,  291.,  308.,  213.,   99.,   64.,   63.,\n",
              "          62.,   64.,   67.,   66.],\n",
              "       [  59.,   66.,   76.,   67.,   64.,   63.,   67.,   67.,   72.,\n",
              "          76.,   69.,   65.,   69.,   65.,   65.,   65.,   63.,   66.,\n",
              "          77.,  187.,  429.,  866., 1010.,  674.,  366.,  129.,   64.,\n",
              "          65.,   69.,   64.,   66.],\n",
              "       [  67.,   65.,   67.,   64.,   66.,   65.,   64.,   68.,   79.,\n",
              "          79.,   59.,   73.,   70.,   74.,  128.,  124.,  112.,   77.,\n",
              "         170.,  557., 1272., 1507., 1482., 1504.,  910.,  333.,   98.,\n",
              "          70.,   67.,   68.,   68.],\n",
              "       [  74.,   66.,   78.,   67.,   66.,   66.,   67.,   78.,   76.,\n",
              "          80.,   67.,   65.,  112.,  228.,  452.,  539.,  600.,  449.,\n",
              "         395., 1044., 1482., 1586., 1515., 1437., 1617.,  551.,  120.,\n",
              "          77.,   65.,   67.,   70.],\n",
              "       [  64.,   70.,   83.,   75.,   72.,   69.,   74.,   67.,   77.,\n",
              "          77.,   66.,  101.,  308.,  807., 1257., 1552., 1342., 1112.,\n",
              "         672., 1044., 1556., 1466., 1394., 1364., 1407.,  549.,  129.,\n",
              "          80.,   68.,   80.,   70.],\n",
              "       [  60.,   64.,   63.,   64.,   69.,   63.,   63.,   64.,   76.,\n",
              "          77.,   69.,  202.,  616., 1966., 1533., 1804., 1607., 1531.,\n",
              "        1173.,  959., 1505., 1486., 1487., 1482., 1122.,  335.,   82.,\n",
              "          68.,   68.,   64.,   68.],\n",
              "       [  66.,   67.,   72.,   60.,   66.,   66.,   68.,   69.,   88.,\n",
              "          87.,   90.,  289.,  938., 1458., 1468., 1471., 1469., 1486.,\n",
              "        1406.,  693.,  854., 1300., 1407., 1092.,  533.,  131.,   73.,\n",
              "          74.,   65.,   61.,   62.],\n",
              "       [  64.,   63.,   65.,   64.,   63.,   68.,   67.,   72.,   78.,\n",
              "          85.,   74.,  305.,  993., 1433., 1638., 1544., 1567., 1486.,\n",
              "        1367.,  399.,  261.,  364.,  356.,  207.,   92.,   62.,   65.,\n",
              "          66.,   63.,   65.,   65.],\n",
              "       [  58.,   73.,   81.,   63.,   64.,   62.,   69.,   66.,   70.,\n",
              "          78.,   81.,  186.,  623., 1406., 1582., 1535., 1437., 1506.,\n",
              "         781.,  209.,  101.,   89.,   84.,   63.,   81.,   88.,   73.,\n",
              "          74.,   74.,   66.,   71.],\n",
              "       [  69.,   62.,   63.,   61.,   62.,   67.,   69.,   77.,   72.,\n",
              "          68.,   76.,  124.,  307.,  697., 1218., 1362., 1216.,  801.,\n",
              "         275.,  111.,   91.,   90.,   81.,   70.,   65.,   76.,   72.,\n",
              "          69.,   70.,   70.,   79.],\n",
              "       [  72.,   70.,   66.,   70.,   75.,   69.,   63.,   70.,   74.,\n",
              "          70.,   65.,   78.,  139.,  264.,  431.,  474.,  396.,  233.,\n",
              "         117.,   76.,   72.,   72.,   64.,   68.,   64.,   66.,   67.,\n",
              "          71.,   74.,   70.,   64.],\n",
              "       [  64.,   70.,   63.,   64.,   71.,   69.,   63.,   69.,   72.,\n",
              "          69.,   64.,   65.,   84.,  142.,  187.,  224.,  172.,  115.,\n",
              "          66.,   65.,   63.,   66.,   63.,   67.,   62.,   62.,   62.,\n",
              "          68.,   71.,   66.,   66.],\n",
              "       [  68.,   65.,   67.,   65.,   63.,   80.,   77.,   60.,   64.,\n",
              "          63.,   63.,   64.,   66.,   83.,  104.,  120.,  104.,   74.,\n",
              "          66.,   65.,   67.,   69.,   64.,   65.,   64.,   69.,   69.,\n",
              "          76.,   77.,   71.,   60.],\n",
              "       [  64.,   66.,   70.,   69.,   67.,   67.,   66.,   67.,   62.,\n",
              "          65.,   61.,   63.,   62.,   63.,   75.,   68.,   73.,   65.,\n",
              "          68.,   70.,   68.,   67.,   62.,   69.,   65.,   64.,   63.,\n",
              "          64.,   66.,   67.,   64.],\n",
              "       [  61.,   58.,   66.,   62.,   78.,   63.,   69.,   60.,   66.,\n",
              "          69.,   63.,   62.,   66.,   60.,   68.,   65.,   61.,   67.,\n",
              "          69.,   69.,   64.,   73.,   64.,   61.,   74.,   66.,   76.,\n",
              "          73.,   74.,   73.,   63.],\n",
              "       [  84.,   66.,   66.,   60.,   63.,   64.,   64.,   65.,   73.,\n",
              "          67.,   71.,   68.,   61.,   70.,   72.,   61.,   67.,   68.,\n",
              "          64.,   69.,   66.,   69.,   67.,   63.,   63.,   71.,   65.,\n",
              "          67.,   73.,   55.,   75.],\n",
              "       [  74.,   67.,   65.,   65.,   63.,   63.,   67.,   75.,   70.,\n",
              "          66.,   66.,   67.,   70.,   74.,   61.,   69.,   69.,   67.,\n",
              "          63.,   67.,   66.,   66.,   60.,   61.,   62.,   63.,   63.,\n",
              "          67.,   68.,   69.,   69.],\n",
              "       [  72.,   68.,   72.,   68.,   61.,   65.,   64.,   63.,   65.,\n",
              "          65.,   65.,   63.,   67.,   65.,   63.,   66.,   67.,   63.,\n",
              "          62.,   66.,   64.,   63.,   69.,   77.,   68.,   72.,   64.,\n",
              "          64.,   67.,   65.,   65.],\n",
              "       [  64.,   63.,   64.,   64.,   62.,   65.,   62.,   66.,   62.,\n",
              "          86.,   69.,   65.,   72.,   66.,   64.,   65.,   62.,   63.,\n",
              "          65.,   63.,   63.,   66.,   63.,   63.,   65.,   62.,   62.,\n",
              "          64.,   62.,   62.,   63.],\n",
              "       [  63.,   64.,   62.,   61.,   64.,   61.,   63.,   63.,   61.,\n",
              "          64.,   64.,   66.,   66.,   69.,   66.,   63.,   65.,   64.,\n",
              "          67.,   73.,   64.,   62.,   74.,   67.,   63.,   64.,   64.,\n",
              "          64.,   63.,   68.,   63.],\n",
              "       [  62.,   65.,   67.,   63.,   64.,   63.,   78.,   82.,   67.,\n",
              "          74.,   63.,   70.,   64.,   64.,   64.,   68.,   62.,   70.,\n",
              "          64.,   65.,   64.,   68.,   69.,   62.,   70.,   68.,   65.,\n",
              "          61.,   67.,   75.,   60.],\n",
              "       [  66.,   75.,   63.,   61.,   60.,   62.,   62.,   66.,   65.,\n",
              "          63.,   63.,   65.,   59.,   63.,   70.,   78.,   72.,   63.,\n",
              "          64.,   68.,   65.,   66.,   63.,   70.,   67.,   67.,   70.,\n",
              "          70.,   66.,   63.,   67.],\n",
              "       [  64.,   64.,   76.,   67.,   58.,   67.,   57.,   72.,   68.,\n",
              "          64.,   64.,   70.,   60.,   64.,   68.,   62.,   69.,   63.,\n",
              "          69.,   64.,   64.,   63.,   60.,   67.,   63.,   64.,   72.,\n",
              "          66.,   61.,   62.,   75.]])"
            ]
          },
          "metadata": {},
          "execution_count": 4
        }
      ]
    },
    {
      "cell_type": "code",
      "source": [
        "n_X = arr.shape[1]\n",
        "n_Y = arr.shape[0]\n",
        "print ( arr.shape )\n",
        "print ( n_X, n_Y )"
      ],
      "metadata": {
        "id": "nULHf6ifbpo4",
        "colab": {
          "base_uri": "https://localhost:8080/"
        },
        "outputId": "73d5dbba-ced1-4fe0-ca65-4fc409f08946"
      },
      "execution_count": 5,
      "outputs": [
        {
          "output_type": "stream",
          "name": "stdout",
          "text": [
            "(31, 31)\n",
            "31 31\n"
          ]
        }
      ]
    },
    {
      "cell_type": "code",
      "source": [
        "# bins_X = step_X * np.arange( n_X )\n",
        "# bins_Y = step_Y * np.arange( n_Y )\n",
        "# print ( bins_X )\n",
        "# print ( bins_Y )"
      ],
      "metadata": {
        "id": "q0LsTdT4cIoc"
      },
      "execution_count": 6,
      "outputs": []
    },
    {
      "cell_type": "code",
      "source": [
        "# arr = ( arr - np.mean( arr[:,-4:] ) )\n",
        "arr"
      ],
      "metadata": {
        "colab": {
          "base_uri": "https://localhost:8080/"
        },
        "id": "0H4CULMRnXeG",
        "outputId": "8b13d76f-2fa7-4412-eb4c-5c3b64abde7d"
      },
      "execution_count": 7,
      "outputs": [
        {
          "output_type": "execute_result",
          "data": {
            "text/plain": [
              "array([[  68.,   67.,   77.,   77.,   71.,   65.,   64.,   63.,   70.,\n",
              "          80.,   68.,   62.,   72.,   69.,   67.,   70.,   71.,   68.,\n",
              "          67.,   62.,   59.,   77.,   69.,   81.,   75.,   68.,   67.,\n",
              "          61.,   65.,   63.,   64.],\n",
              "       [  66.,   62.,   64.,   60.,   64.,   67.,   62.,   64.,   66.,\n",
              "          84.,   80.,   60.,   65.,   70.,   70.,   62.,   66.,   64.,\n",
              "          63.,   63.,   65.,   64.,   64.,   63.,   64.,   65.,   65.,\n",
              "          65.,   64.,   63.,   64.],\n",
              "       [  66.,   67.,   64.,   64.,   64.,   65.,   65.,   65.,   71.,\n",
              "          78.,   69.,   62.,   64.,   61.,   62.,   66.,   63.,   68.,\n",
              "          63.,   58.,   73.,   67.,   78.,   70.,   66.,   66.,   64.,\n",
              "          66.,   62.,   63.,   65.],\n",
              "       [  63.,   64.,   64.,   62.,   66.,   67.,   69.,   71.,   73.,\n",
              "          93.,   65.,   64.,   60.,   63.,   62.,   62.,   59.,   62.,\n",
              "          65.,   61.,   60.,   68.,   70.,   68.,   65.,   67.,   67.,\n",
              "          63.,   61.,   70.,   65.],\n",
              "       [  64.,   66.,   67.,   72.,   70.,   65.,   66.,   66.,   72.,\n",
              "         109.,   72.,   67.,   66.,   63.,   64.,   60.,   78.,   60.,\n",
              "          65.,   67.,   71.,   71.,   62.,   67.,   63.,   69.,   70.,\n",
              "          64.,   65.,   66.,   64.],\n",
              "       [  65.,   63.,   63.,   67.,   74.,   80.,   73.,   78.,   73.,\n",
              "          78.,   67.,   65.,   62.,   65.,   61.,   69.,   63.,   68.,\n",
              "          64.,   67.,   62.,   62.,   62.,   64.,   62.,   52.,   77.,\n",
              "          65.,   68.,   58.,   72.],\n",
              "       [  68.,   66.,   69.,   69.,   65.,   66.,   61.,   71.,   74.,\n",
              "          83.,   75.,   65.,   78.,   64.,   60.,   68.,   70.,   71.,\n",
              "          64.,   67.,   60.,   64.,   61.,   64.,   66.,   68.,   62.,\n",
              "          71.,   66.,   64.,   64.],\n",
              "       [  71.,   79.,   67.,   65.,   64.,   67.,   66.,   70.,   75.,\n",
              "          84.,   72.,   72.,   67.,   65.,   65.,   68.,   64.,   63.,\n",
              "          64.,   63.,   63.,   68.,   87.,   72.,   75.,   63.,   65.,\n",
              "          63.,   64.,   62.,   66.],\n",
              "       [  66.,   67.,   66.,   67.,   63.,   65.,   60.,   69.,   72.,\n",
              "          78.,   71.,   83.,   63.,   66.,   63.,   66.,   58.,   67.,\n",
              "          64.,   79.,  187.,  291.,  308.,  213.,   99.,   64.,   63.,\n",
              "          62.,   64.,   67.,   66.],\n",
              "       [  59.,   66.,   76.,   67.,   64.,   63.,   67.,   67.,   72.,\n",
              "          76.,   69.,   65.,   69.,   65.,   65.,   65.,   63.,   66.,\n",
              "          77.,  187.,  429.,  866., 1010.,  674.,  366.,  129.,   64.,\n",
              "          65.,   69.,   64.,   66.],\n",
              "       [  67.,   65.,   67.,   64.,   66.,   65.,   64.,   68.,   79.,\n",
              "          79.,   59.,   73.,   70.,   74.,  128.,  124.,  112.,   77.,\n",
              "         170.,  557., 1272., 1507., 1482., 1504.,  910.,  333.,   98.,\n",
              "          70.,   67.,   68.,   68.],\n",
              "       [  74.,   66.,   78.,   67.,   66.,   66.,   67.,   78.,   76.,\n",
              "          80.,   67.,   65.,  112.,  228.,  452.,  539.,  600.,  449.,\n",
              "         395., 1044., 1482., 1586., 1515., 1437., 1617.,  551.,  120.,\n",
              "          77.,   65.,   67.,   70.],\n",
              "       [  64.,   70.,   83.,   75.,   72.,   69.,   74.,   67.,   77.,\n",
              "          77.,   66.,  101.,  308.,  807., 1257., 1552., 1342., 1112.,\n",
              "         672., 1044., 1556., 1466., 1394., 1364., 1407.,  549.,  129.,\n",
              "          80.,   68.,   80.,   70.],\n",
              "       [  60.,   64.,   63.,   64.,   69.,   63.,   63.,   64.,   76.,\n",
              "          77.,   69.,  202.,  616., 1966., 1533., 1804., 1607., 1531.,\n",
              "        1173.,  959., 1505., 1486., 1487., 1482., 1122.,  335.,   82.,\n",
              "          68.,   68.,   64.,   68.],\n",
              "       [  66.,   67.,   72.,   60.,   66.,   66.,   68.,   69.,   88.,\n",
              "          87.,   90.,  289.,  938., 1458., 1468., 1471., 1469., 1486.,\n",
              "        1406.,  693.,  854., 1300., 1407., 1092.,  533.,  131.,   73.,\n",
              "          74.,   65.,   61.,   62.],\n",
              "       [  64.,   63.,   65.,   64.,   63.,   68.,   67.,   72.,   78.,\n",
              "          85.,   74.,  305.,  993., 1433., 1638., 1544., 1567., 1486.,\n",
              "        1367.,  399.,  261.,  364.,  356.,  207.,   92.,   62.,   65.,\n",
              "          66.,   63.,   65.,   65.],\n",
              "       [  58.,   73.,   81.,   63.,   64.,   62.,   69.,   66.,   70.,\n",
              "          78.,   81.,  186.,  623., 1406., 1582., 1535., 1437., 1506.,\n",
              "         781.,  209.,  101.,   89.,   84.,   63.,   81.,   88.,   73.,\n",
              "          74.,   74.,   66.,   71.],\n",
              "       [  69.,   62.,   63.,   61.,   62.,   67.,   69.,   77.,   72.,\n",
              "          68.,   76.,  124.,  307.,  697., 1218., 1362., 1216.,  801.,\n",
              "         275.,  111.,   91.,   90.,   81.,   70.,   65.,   76.,   72.,\n",
              "          69.,   70.,   70.,   79.],\n",
              "       [  72.,   70.,   66.,   70.,   75.,   69.,   63.,   70.,   74.,\n",
              "          70.,   65.,   78.,  139.,  264.,  431.,  474.,  396.,  233.,\n",
              "         117.,   76.,   72.,   72.,   64.,   68.,   64.,   66.,   67.,\n",
              "          71.,   74.,   70.,   64.],\n",
              "       [  64.,   70.,   63.,   64.,   71.,   69.,   63.,   69.,   72.,\n",
              "          69.,   64.,   65.,   84.,  142.,  187.,  224.,  172.,  115.,\n",
              "          66.,   65.,   63.,   66.,   63.,   67.,   62.,   62.,   62.,\n",
              "          68.,   71.,   66.,   66.],\n",
              "       [  68.,   65.,   67.,   65.,   63.,   80.,   77.,   60.,   64.,\n",
              "          63.,   63.,   64.,   66.,   83.,  104.,  120.,  104.,   74.,\n",
              "          66.,   65.,   67.,   69.,   64.,   65.,   64.,   69.,   69.,\n",
              "          76.,   77.,   71.,   60.],\n",
              "       [  64.,   66.,   70.,   69.,   67.,   67.,   66.,   67.,   62.,\n",
              "          65.,   61.,   63.,   62.,   63.,   75.,   68.,   73.,   65.,\n",
              "          68.,   70.,   68.,   67.,   62.,   69.,   65.,   64.,   63.,\n",
              "          64.,   66.,   67.,   64.],\n",
              "       [  61.,   58.,   66.,   62.,   78.,   63.,   69.,   60.,   66.,\n",
              "          69.,   63.,   62.,   66.,   60.,   68.,   65.,   61.,   67.,\n",
              "          69.,   69.,   64.,   73.,   64.,   61.,   74.,   66.,   76.,\n",
              "          73.,   74.,   73.,   63.],\n",
              "       [  84.,   66.,   66.,   60.,   63.,   64.,   64.,   65.,   73.,\n",
              "          67.,   71.,   68.,   61.,   70.,   72.,   61.,   67.,   68.,\n",
              "          64.,   69.,   66.,   69.,   67.,   63.,   63.,   71.,   65.,\n",
              "          67.,   73.,   55.,   75.],\n",
              "       [  74.,   67.,   65.,   65.,   63.,   63.,   67.,   75.,   70.,\n",
              "          66.,   66.,   67.,   70.,   74.,   61.,   69.,   69.,   67.,\n",
              "          63.,   67.,   66.,   66.,   60.,   61.,   62.,   63.,   63.,\n",
              "          67.,   68.,   69.,   69.],\n",
              "       [  72.,   68.,   72.,   68.,   61.,   65.,   64.,   63.,   65.,\n",
              "          65.,   65.,   63.,   67.,   65.,   63.,   66.,   67.,   63.,\n",
              "          62.,   66.,   64.,   63.,   69.,   77.,   68.,   72.,   64.,\n",
              "          64.,   67.,   65.,   65.],\n",
              "       [  64.,   63.,   64.,   64.,   62.,   65.,   62.,   66.,   62.,\n",
              "          86.,   69.,   65.,   72.,   66.,   64.,   65.,   62.,   63.,\n",
              "          65.,   63.,   63.,   66.,   63.,   63.,   65.,   62.,   62.,\n",
              "          64.,   62.,   62.,   63.],\n",
              "       [  63.,   64.,   62.,   61.,   64.,   61.,   63.,   63.,   61.,\n",
              "          64.,   64.,   66.,   66.,   69.,   66.,   63.,   65.,   64.,\n",
              "          67.,   73.,   64.,   62.,   74.,   67.,   63.,   64.,   64.,\n",
              "          64.,   63.,   68.,   63.],\n",
              "       [  62.,   65.,   67.,   63.,   64.,   63.,   78.,   82.,   67.,\n",
              "          74.,   63.,   70.,   64.,   64.,   64.,   68.,   62.,   70.,\n",
              "          64.,   65.,   64.,   68.,   69.,   62.,   70.,   68.,   65.,\n",
              "          61.,   67.,   75.,   60.],\n",
              "       [  66.,   75.,   63.,   61.,   60.,   62.,   62.,   66.,   65.,\n",
              "          63.,   63.,   65.,   59.,   63.,   70.,   78.,   72.,   63.,\n",
              "          64.,   68.,   65.,   66.,   63.,   70.,   67.,   67.,   70.,\n",
              "          70.,   66.,   63.,   67.],\n",
              "       [  64.,   64.,   76.,   67.,   58.,   67.,   57.,   72.,   68.,\n",
              "          64.,   64.,   70.,   60.,   64.,   68.,   62.,   69.,   63.,\n",
              "          69.,   64.,   64.,   63.,   60.,   67.,   63.,   64.,   72.,\n",
              "          66.,   61.,   62.,   75.]])"
            ]
          },
          "metadata": {},
          "execution_count": 7
        }
      ]
    },
    {
      "cell_type": "code",
      "source": [
        "from matplotlib.colors import LogNorm\n",
        "fig = plt.figure( figsize=(8,6) )\n",
        "# plt.imshow( arr )\n",
        "# plt.imshow( arr, origin='lower', extent=( 0., step_X*n_X, 0., step_Y*n_Y), cmap=\"viridis\" )\n",
        "plt.imshow( arr, origin='lower', extent=( 0., step_X*n_X, 0., step_Y*n_Y), cmap=\"viridis\", norm=LogNorm() )\n",
        "# plt.imshow( arr, origin='lower', extent=( 0., step_X*n_X, 0., step_Y*n_Y), cmap=\"plasma\" )\n",
        "# plt.imshow( arr, origin='lower', extent=( 0., step_X*n_X, 0., step_Y*n_Y), cmap=\"plasma\", norm=LogNorm() )\n",
        "plt.savefig( \"mapa_log.png\", bbox_inches='tight' )"
      ],
      "metadata": {
        "colab": {
          "base_uri": "https://localhost:8080/",
          "height": 522
        },
        "id": "RAcLAvfrcgYG",
        "outputId": "089e0070-cbf7-4e33-d2c4-61b82fd2567d"
      },
      "execution_count": 8,
      "outputs": [
        {
          "output_type": "display_data",
          "data": {
            "text/plain": [
              "<Figure size 800x600 with 1 Axes>"
            ],
            "image/png": "[encoded data removed]"
          },
          "metadata": {}
        }
      ]
    },
    {
      "cell_type": "code",
      "source": [
        "# 20 22\n",
        "# 15,5 17,5\n",
        "\n",
        "# 20,5 22,5\n",
        "# 15,4 17,0\n",
        "\n",
        "# 20,7 22,2\n",
        "# 15,5 17,0\n",
        "\n",
        "# 12 14\n",
        "# 21 22,5\n",
        "\n",
        "# 12,5 13,3\n",
        "# 21,8 22,4\n",
        "\n",
        "# 12 13,5\n",
        "# 21 22,5\n",
        "\n",
        "# 12,65 20,75\n",
        "\n",
        "# 12 13,5\n",
        "# 20 22\n",
        "\n",
        "# 12,4 13,4\n",
        "# 20 21\n",
        "\n",
        "# 12,7 20,6\n",
        "# 13,05 20,5\n",
        "\n",
        "# 12 13,5\n",
        "# 20 21,5\n",
        "\n",
        "# 13,1 20,5"
      ],
      "metadata": {
        "id": "k5DkMoHsIYmb"
      },
      "execution_count": 9,
      "outputs": []
    },
    {
      "cell_type": "code",
      "source": [
        "50000/200"
      ],
      "metadata": {
        "colab": {
          "base_uri": "https://localhost:8080/"
        },
        "id": "shjPm9eiKYBJ",
        "outputId": "1e8c4f75-e8f3-433a-dfa6-8842deb252a8"
      },
      "execution_count": 10,
      "outputs": [
        {
          "output_type": "execute_result",
          "data": {
            "text/plain": [
              "250.0"
            ]
          },
          "metadata": {},
          "execution_count": 10
        }
      ]
    },
    {
      "cell_type": "code",
      "source": [],
      "metadata": {
        "id": "cEOG7aoTKb6V"
      },
      "execution_count": 10,
      "outputs": []
    }
  ]
}